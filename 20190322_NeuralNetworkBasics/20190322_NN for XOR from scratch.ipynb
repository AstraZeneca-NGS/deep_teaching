{
 "cells": [
  {
   "cell_type": "markdown",
   "metadata": {},
   "source": [
    "The goal of this exercise is to code a simple neural network from scratch. We will create a simple network with the following architecture to solve the XOR problem. \n",
    "\n",
    "<img height=\"365\" src=\"https://lh5.googleusercontent.com/Yinkr_2dkb08Mz_wzG-tPzqNGeQ3KnW4fuE7IwGzUjRV1a1-NjzuPS6s69rq-xtZYT26BuyzYgKO6ZRTetYqwAyhqK6W8BeePtOx33W-XgHA0BfkU8TzkcG53gmsHYLS2PT0Sbmv\" width=\"557\">\n",
    "\n",
    "We will\n",
    "* learn how to initialize neuron weights\n",
    "* learn how to 'forward propagate' data through our network\n",
    "* learn how to 'back propagate' loss information back through our network\n",
    "* and use this information to update our network neuron weights\n",
    "\n",
    "<br><br><br>\n",
    "Python / notebook cheatsheet\n",
    "* `Shift+Enter` to execute a given cell and move to / make a new next cell\n",
    "* `#` is for single line comments\n",
    "* each cell in this notebook can be either of type `code` (the cell below) or type `markdown` (this cell)\n",
    "* tabs (indents) are required for any flow control (`for`, `if..else`, `while` etc)\n",
    "* `=` is for assignment\n",
    "* `()` is to call a function or method\n",
    "* `[]` is for indexing into a variable\n",
    "* a quick way to post-hoc to put parenthesis or brackets around something, just select that something and type `(` or `[`"
   ]
  },
  {
   "cell_type": "code",
   "execution_count": 32,
   "metadata": {},
   "outputs": [],
   "source": [
    "import math\n",
    "import numpy as np\n",
    "import matplotlib.pyplot as plt\n",
    "from matplotlib.colors import ListedColormap"
   ]
  },
  {
   "cell_type": "code",
   "execution_count": 33,
   "metadata": {},
   "outputs": [],
   "source": [
    "RAND_WEIGHT_FACTOR = 0.5\n",
    "\n",
    "# Training data\n",
    "XOR_INPUTS = np.array([[-1, -1], [-1, 1], [1, -1], [1, 1]])\n",
    "XOR_OUTPUTS = np.array([0.1, 0.9, 0.9, 0.1])\n",
    "\n",
    "neuron_id = 0"
   ]
  },
  {
   "cell_type": "code",
   "execution_count": 34,
   "metadata": {},
   "outputs": [
    {
     "data": {
      "text/plain": [
       "(-2, 2)"
      ]
     },
     "execution_count": 34,
     "metadata": {},
     "output_type": "execute_result"
    },
    {
     "data": {
      "image/png": "[encoded data removed]",
      "text/plain": [
       "<Figure size 432x288 with 1 Axes>"
      ]
     },
     "metadata": {
      "needs_background": "light"
     },
     "output_type": "display_data"
    }
   ],
   "source": [
    "# visualize the training data\n",
    "cm_bright = ListedColormap(['#FF0000', '#0000FF'])\n",
    "plt.scatter(XOR_INPUTS[:,0],XOR_INPUTS[:,1],c=np.round(XOR_OUTPUTS),cmap=cm_bright)\n",
    "plt.xlim([-2,2])\n",
    "plt.ylim([-2,2])"
   ]
  },
  {
   "cell_type": "code",
   "execution_count": null,
   "metadata": {},
   "outputs": [],
   "source": [
    "class Neuron:\n",
    "    '''\n",
    "    Neuron for backpropagation\n",
    "    IMPORTANT: This is built for educational pourposes, efficiency is not a concern.\n",
    "    '''\n",
    "    def __init__(self, input_neurons=list()):\n",
    "        ''' Initialzie parameters '''\n",
    "        global neuron_id\n",
    "        self.id = neuron_id\n",
    "        neuron_id += 1\n",
    "        self.fan_in = len(input_neurons)\n",
    "        self.out = 0.0\n",
    "        self.input_neurons = input_neurons\n",
    "        self.reset_delta_w()\n",
    "        self.delta = 0\n",
    "        self.delta_sum = 0\n",
    "        self.w = # TODO: Initialize weights\n",
    "\n",
    "    def backprop(self):\n",
    "        ''' Perform a back-propagation '''\n",
    "        self.delta = self.delta_sum * self.phi_prime()\n",
    "        for i, n in enumerate(self.input_neurons):\n",
    "            # TODO: Back-propagate deltas\n",
    "            self.delta_w[i] += n.out * self.delta\n",
    "\n",
    "    def calc(self):\n",
    "        ''' Calculate neuron's output '''\n",
    "        self.delta = 0\n",
    "        self.delta_sum = 0\n",
    "        ins = np.array([n.out for n in self.input_neurons])\n",
    "        # TODO: Calculate neuron's output\n",
    "\n",
    "    def phi(self, h):\n",
    "        ''' Neuron's transfer function '''\n",
    "        return 1.0 / (1.0 + math.exp(-h))\n",
    "\n",
    "    def phi_prime(self):\n",
    "        ''' Neuron's transfer function derivate '''\n",
    "        return # TODO: Calculate transfer's function derivate\n",
    "\n",
    "    def reset_delta_w(self):\n",
    "        self.delta_w = np.zeros((self.fan_in)) # Weight update\n",
    "\n",
    "    def update_w(self, eta):\n",
    "        ''' Update weights '''\n",
    "        # TODO: Update weights\n",
    "\n",
    "    def __str__(self):\n",
    "        return f\"id: {self.id}, output: {self.out}, weights: {self.w}, delta: {self.delta}, delta_sum: {self.delta_sum}, delta_w: {self.delta_w}\""
   ]
  },
  {
   "cell_type": "code",
   "execution_count": null,
   "metadata": {},
   "outputs": [],
   "source": [
    "class Network:\n",
    "    ''' A neural network to solve the XOR problem '''\n",
    "    def __init__(self, data_in, data_out):\n",
    "        ''' Create a fully connected network to solve XOR problem, return layers of neurons '''\n",
    "        self.data_in = data_in\n",
    "        self.data_out = data_out\n",
    "        # Create 'bias'\n",
    "        bias = Neuron()\n",
    "        bias.out = 1.0\n",
    "        # Create 'placeholders' for inputs\n",
    "        in1 = Neuron()\n",
    "        in2 = Neuron()\n",
    "        # Create neurons and connect them\n",
    "        n1 = Neuron([bias, in1, in2])\n",
    "        n2 = Neuron([bias, in1, in2])\n",
    "        self.n_out = Neuron([bias, n1, n2])\n",
    "        # Create layers\n",
    "        self.layers = [[in1, in2], [n1, n2], [self.n_out]]\n",
    "        self.neurons = [n for l in self.layers[1:] for n in l]\n",
    "\n",
    "    def backprop(self, num_in):\n",
    "        ''' Back-propagate weights '''\n",
    "        # Calculate output delta\n",
    "        diff_loss = (self.data_out[num_in] - self.n_out.out)\n",
    "        self.n_out.delta_sum = -diff_loss\n",
    "        # Backpropagation\n",
    "        for n in reversed(self.neurons):\n",
    "            n.backprop()\n",
    "        return diff_loss * diff_loss\n",
    "\n",
    "    def calc(self):\n",
    "        ''' Calculate outputs for all neurons (forward propagation) '''\n",
    "        for n in self.neurons:\n",
    "            n.calc()\n",
    "\n",
    "    def evaluate(self):\n",
    "        ''' Evaluate network for each input '''\n",
    "        l0 = self.layers[0]\n",
    "        num_samples = self.data_in.shape[0]\n",
    "        for i in range(num_samples):\n",
    "            self.set_inputs(i)\n",
    "            self.calc()\n",
    "            print(f\"{l0[0].out}\\t{l0[1].out}\\t=>\\t{self.n_out.out}\")\n",
    "\n",
    "    def set_inputs(self, num_in):\n",
    "        ''' Set netwok inputs with sample number 'num_in' '''\n",
    "        for j, n_in in enumerate(self.layers[0]):\n",
    "            n_in.out = self.data_in[num_in, j]\n",
    "\n",
    "    def train(self, eta):\n",
    "        ''' Train a neural network (one iteration) '''\n",
    "        sum_loss = 0.0\n",
    "        num_samples = self.data_in.shape[0]\n",
    "        n_out = self.layers[2][0]\n",
    "        for n in self.neurons:\n",
    "            n.reset_delta_w()\n",
    "        # For each input sample...\n",
    "        for i in range(num_samples):\n",
    "            self.set_inputs(i)\n",
    "            self.calc()\n",
    "            sum_loss += self.backprop(i)\n",
    "        # Update weights\n",
    "        for n in self.neurons:\n",
    "            n.update_w(eta)\n",
    "        # Return loss\n",
    "        loss = sum_loss / (2.0 * num_samples)\n",
    "        return loss"
   ]
  },
  {
   "cell_type": "code",
   "execution_count": null,
   "metadata": {},
   "outputs": [],
   "source": [
    "# Create a network\n",
    "net = Network(XOR_INPUTS, XOR_OUTPUTS)\n",
    "\n",
    "# Train\n",
    "eta = 1\n",
    "nIter = 2000\n",
    "losses = np.zeros((nIter,))\n",
    "for i in range(nIter):\n",
    "    losses[i] = net.train(eta)\n",
    "    print(f\"Iteration: {i}\\tloss: {losses[i]}\")"
   ]
  },
  {
   "cell_type": "code",
   "execution_count": null,
   "metadata": {},
   "outputs": [],
   "source": [
    "# Visualize loss as a function of training iteration\n",
    "plt.plot(range(nIter),losses)\n",
    "plt.ylabel('loss')\n",
    "plt.xlabel('training iteration')"
   ]
  },
  {
   "cell_type": "code",
   "execution_count": null,
   "metadata": {},
   "outputs": [],
   "source": [
    "# Evaluate our result after training\n",
    "# we should get something similar to XOR_OUTPUTS, i.e. [0.1, 0.9, 0.9, 0.1]\n",
    "net.evaluate()"
   ]
  },
  {
   "cell_type": "code",
   "execution_count": null,
   "metadata": {},
   "outputs": [],
   "source": []
  }
 ],
 "metadata": {
  "kernelspec": {
   "display_name": "Python 3",
   "language": "python",
   "name": "python3"
  },
  "language_info": {
   "codemirror_mode": {
    "name": "ipython",
    "version": 3
   },
   "file_extension": ".py",
   "mimetype": "text/x-python",
   "name": "python",
   "nbconvert_exporter": "python",
   "pygments_lexer": "ipython3",
   "version": "3.6.7"
  }
 },
 "nbformat": 4,
 "nbformat_minor": 2
}
